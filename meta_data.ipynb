{
 "cells": [
  {
   "cell_type": "code",
   "execution_count": null,
   "id": "44aa286b",
   "metadata": {},
   "outputs": [],
   "source": [
    "import pandas as pd\n"
   ]
  },
  {
   "cell_type": "code",
   "execution_count": 3,
   "id": "beeeba46",
   "metadata": {},
   "outputs": [
    {
     "name": "stdout",
     "output_type": "stream",
     "text": [
      "Found 2 tables\n",
      "             dsm:port  did sid                     sensor                 SN  \\\n",
      "0  initb:/dev/ttyUSB2  1.0   2              Gill 2D sonic                NaN   \n",
      "1  initb:/dev/ttyUSB0  1.0   4                   TRH.0.2m                NaN   \n",
      "2  initb:/dev/ttyUSB1  1.0  10  CSAT3A+EC150 (EC100).1.5m  P1003; 1276; 1312   \n",
      "3  initb:/dev/ttyUSB3  1.0  12                   TRH.1.5m                NaN   \n",
      "4  initb:/dev/ttyUSB4  1.0  30        CSAT3A (EC100).3.0m         2035; 1814   \n",
      "\n",
      "   x (Easting m)  y (Northing m)  z (MSL m)  azimuth (deg)  pitch (deg)  \\\n",
      "0            NaN             NaN        NaN           36.4          NaN   \n",
      "1          17.41           -4.69     217.24            NaN          NaN   \n",
      "2          15.88           -6.73     218.44           36.3        -0.02   \n",
      "3          17.44           -4.63     218.45            NaN          NaN   \n",
      "4          15.88           -6.72     219.76           36.8        -0.69   \n",
      "\n",
      "   roll (deg)  \n",
      "0         NaN  \n",
      "1         NaN  \n",
      "2         NaN  \n",
      "3         NaN  \n",
      "4        0.86  \n"
     ]
    }
   ],
   "source": [
    "\n",
    "url = \"https://www.eol.ucar.edu/content/isfs-savant\"\n",
    "\n",
    "# pandas will automatically detect tables in the HTML\n",
    "tables = pd.read_html(url)\n",
    "\n",
    "# check how many tables were found\n",
    "print(f\"Found {len(tables)} tables\")\n",
    "\n",
    "# pick the first one (or whichever index has the table you want)\n",
    "locations_df, corrections = tables\n",
    "\n",
    "# save to CSV (optional)\n",
    "locations_df.to_csv(\"table.csv\", index=False)\n",
    "\n",
    "print(locations_df.head())\n"
   ]
  }
 ],
 "metadata": {
  "kernelspec": {
   "display_name": "unidata",
   "language": "python",
   "name": "python3"
  },
  "language_info": {
   "codemirror_mode": {
    "name": "ipython",
    "version": 3
   },
   "file_extension": ".py",
   "mimetype": "text/x-python",
   "name": "python",
   "nbconvert_exporter": "python",
   "pygments_lexer": "ipython3",
   "version": "3.13.3"
  }
 },
 "nbformat": 4,
 "nbformat_minor": 5
}
